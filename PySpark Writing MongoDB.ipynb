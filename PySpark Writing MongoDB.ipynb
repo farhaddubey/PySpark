{
 "cells": [
  {
   "cell_type": "code",
   "execution_count": 1,
   "id": "c5fc5841",
   "metadata": {
    "ExecuteTime": {
     "end_time": "2024-03-18T03:03:17.148087Z",
     "start_time": "2024-03-18T03:03:16.873130Z"
    }
   },
   "outputs": [],
   "source": [
    "from pyspark.sql import SparkSession\n",
    "from pyspark.sql import Row\n",
    "from pyspark.sql import functions"
   ]
  },
  {
   "cell_type": "code",
   "execution_count": 2,
   "id": "098d7dca",
   "metadata": {
    "ExecuteTime": {
     "end_time": "2024-03-18T03:05:06.629685Z",
     "start_time": "2024-03-18T03:05:06.620087Z"
    }
   },
   "outputs": [],
   "source": [
    "def parseInput(line):\n",
    "    fields = line.split('|')\n",
    "    return Row(user_id =int(fields[0]), age=int(fields[1]), gender=fields[2], occupation=fields[3], zip=fields[4])"
   ]
  },
  {
   "cell_type": "code",
   "execution_count": null,
   "id": "1de82ab6",
   "metadata": {
    "ExecuteTime": {
     "start_time": "2024-03-18T03:10:47.263Z"
    }
   },
   "outputs": [],
   "source": [
    "if __name__ == \"__main__\":\n",
    "    # Create a SparkSession\n",
    "    spark = SparkSession.builder.appName(\"MonogDBIntegration\").getOrCreate()\n",
    "    # Building RDD on top of users data file\n",
    "    lines = spark.sparkContext.textFile(\"hdfs:///user/maria_dev/mongodb/movies.user\")\n",
    "    # Creating new RDD by passing the parsers functions \n",
    "    users = lines.map(parseInput)\n",
    "    # Converting RDD into a Data Frame\n",
    "    usersDataset = spark.createDataFrame(users)\n",
    "    # writing the data into mongo DB\n",
    "    usersDataset.write.format(\"com.mongodb.spark.sql.DefaultSource\")\\\n",
    "    .option(\"uri\", \"mongodb://127.0.0.1/moviesdata.users\")\\\n",
    "    .mode(\"append\").save()"
   ]
  },
  {
   "cell_type": "code",
   "execution_count": null,
   "id": "5307fe46",
   "metadata": {},
   "outputs": [],
   "source": []
  }
 ],
 "metadata": {
  "kernelspec": {
   "display_name": "Python 3 (ipykernel)",
   "language": "python",
   "name": "python3"
  },
  "language_info": {
   "codemirror_mode": {
    "name": "ipython",
    "version": 3
   },
   "file_extension": ".py",
   "mimetype": "text/x-python",
   "name": "python",
   "nbconvert_exporter": "python",
   "pygments_lexer": "ipython3",
   "version": "3.11.5"
  },
  "toc": {
   "base_numbering": 1,
   "nav_menu": {},
   "number_sections": true,
   "sideBar": true,
   "skip_h1_title": false,
   "title_cell": "Table of Contents",
   "title_sidebar": "Contents",
   "toc_cell": false,
   "toc_position": {},
   "toc_section_display": true,
   "toc_window_display": false
  },
  "varInspector": {
   "cols": {
    "lenName": 16,
    "lenType": 16,
    "lenVar": 40
   },
   "kernels_config": {
    "python": {
     "delete_cmd_postfix": "",
     "delete_cmd_prefix": "del ",
     "library": "var_list.py",
     "varRefreshCmd": "print(var_dic_list())"
    },
    "r": {
     "delete_cmd_postfix": ") ",
     "delete_cmd_prefix": "rm(",
     "library": "var_list.r",
     "varRefreshCmd": "cat(var_dic_list()) "
    }
   },
   "types_to_exclude": [
    "module",
    "function",
    "builtin_function_or_method",
    "instance",
    "_Feature"
   ],
   "window_display": false
  }
 },
 "nbformat": 4,
 "nbformat_minor": 5
}
